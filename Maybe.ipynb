{
 "cells": [
  {
   "cell_type": "code",
   "execution_count": 2,
   "metadata": {},
   "outputs": [
    {
     "name": "stdout",
     "output_type": "stream",
     "text": [
      "កំពុងនៅជាមួយអ្នកណា តើខ្ញុំអាចដឹងផងបានទេ?\n",
      "តើអូនអាចក្លាយជាមនុស្សដែល\n",
      "បងផ្តល់ក្តីស្រឡាញ់ផងបានទេ?\n",
      "ឬអូនមិនអាចសូម្បីតែ គិតស្រមៃដល់ថ្ងៃមួយនោះទេ?\n",
      "ប្រហែលជាមេឃធ្លាក់ខ្យល់ខ្លាំងពេក\n",
      "ទើបទឺកភ្នែកអូននេះហូរមិនឈប់\n",
      "អូនអន់ខ្លាំងណាស់ដែលមិនអាចធ្វើឲ្យ\n",
      "បងស្រឡាញ់អូនបាន អូនស្តាយណាស់\n",
      "ដែលអូនមកយឺតមិនត្រូវពេល\n",
      "តែអូនត្រូវទទួលយកទាំងស្ងៀមស្ងាត់\n",
      "មិនអាចណាត់ត្រឹមថតរូបជួបជុំសូម្បីជាមិត្ត\n",
      "ប្រហែលជាមេឃធ្លាក់ភ្លៀងខ្លាំងពេក\n",
      "ទើបគេមិនបានដើរផ្លូវនេះរួមខ្ញុំ\n",
      "តើខ្ញុំកំសាកពេកទេ?មិនក្លាហាន\n",
      "សូម្បីសារភាពក្តីស្រឡាញ់ទៅថ្លៃ\n",
      "ខ្ញុំដឹងថាខ្ញុំកំពុងនឹកគេ\n",
      "ខួរក្បាលនឹកឃើញតែឈ្មោះគេ\n",
      "ការចងចាំពីគេទុកត្រឹមសម្ងាត់\n",
      "ក្នុងចិត្តគ្មានថ្ងៃអាចនិយាយ\n"
     ]
    }
   ],
   "source": [
    "import time\n",
    "import sys\n",
    "\n",
    "# Define the lyrics of the song\n",
    "lyrics = [\n",
    "    {\"time\": 0, \"text\": \"កំពុងនៅជាមួយអ្នកណា តើខ្ញុំអាចដឹងផងបានទេ?\"},\n",
    "    {\"time\": 4, \"text\": \"តើអូនអាចក្លាយជាមនុស្សដែល\"},\n",
    "    {\"time\": 6, \"text\": \"បងផ្តល់ក្តីស្រឡាញ់ផងបានទេ?\"},\n",
    "    {\"time\": 8, \"text\": \"ឬអូនមិនអាចសូម្បីតែ គិតស្រមៃដល់ថ្ងៃមួយនោះទេ?\"},\n",
    "    {\"time\": 15, \"text\": \"ប្រហែលជាមេឃធ្លាក់ខ្យល់ខ្លាំងពេក\"},\n",
    "    {\"time\": 15, \"text\": \"ទើបទឺកភ្នែកអូននេះហូរមិនឈប់\"},\n",
    "    {\"time\": 20, \"text\": \"អូនអន់ខ្លាំងណាស់ដែលមិនអាចធ្វើឲ្យ\"},\n",
    "    {\"time\": 22, \"text\": \"បងស្រឡាញ់អូនបាន អូនស្តាយណាស់\"},\n",
    "    {\"time\": 24, \"text\": \"ដែលអូនមកយឺតមិនត្រូវពេល\"},\n",
    "    {\"time\": 26, \"text\": \"តែអូនត្រូវទទួលយកទាំងស្ងៀមស្ងាត់\"},\n",
    "    {\"time\": 28, \"text\": \"មិនអាចណាត់ត្រឹមថតរូបជួបជុំសូម្បីជាមិត្ត\"},\n",
    "    {\"time\": 32, \"text\": \"ប្រហែលជាមេឃធ្លាក់ភ្លៀងខ្លាំងពេក\"},\n",
    "    {\"time\": 34, \"text\": \"ទើបគេមិនបានដើរផ្លូវនេះរួមខ្ញុំ\"},\n",
    "    {\"time\": 36.5, \"text\": \"តើខ្ញុំកំសាកពេកទេ?មិនក្លាហាន\"},\n",
    "    {\"time\": 39, \"text\": \"សូម្បីសារភាពក្តីស្រឡាញ់ទៅថ្លៃ\"},\n",
    "    {\"time\": 41, \"text\": \"ខ្ញុំដឹងថាខ្ញុំកំពុងនឹកគេ\"},\n",
    "    {\"time\": 42, \"text\": \"ខួរក្បាលនឹកឃើញតែឈ្មោះគេ\"},\n",
    "    {\"time\": 45, \"text\": \"ការចងចាំពីគេទុកត្រឹមសម្ងាត់\"},\n",
    "    {\"time\": 47, \"text\": \"ក្នុងចិត្តគ្មានថ្ងៃអាចនិយាយ\"},\n",
    "    # Add more lyrics here with appropriate timings\n",
    "]\n",
    "\n",
    "# Function to animate typing of a string\n",
    "def type_text(text, typing_speed=0.05):\n",
    "    for char in text:\n",
    "        sys.stdout.write(char)\n",
    "        sys.stdout.flush()\n",
    "        time.sleep(typing_speed)\n",
    "    print()  # New line after each line of text\n",
    "\n",
    "# Function to play the lyrics with typing animation\n",
    "def play_lyrics(lyrics, speed_factor=1.0, typing_speed=0.05):\n",
    "    start_time = time.time()\n",
    "    for line in lyrics:\n",
    "        time_to_wait = (line[\"time\"] - (time.time() - start_time)) / speed_factor\n",
    "        if time_to_wait > 0:\n",
    "            time.sleep(time_to_wait)\n",
    "        type_text(line[\"text\"], typing_speed / speed_factor)\n",
    "\n",
    "\n",
    "speed_factor = 1.0  \n",
    "typing_speed = 0.05 \n",
    "play_lyrics(lyrics, speed_factor, typing_speed)\n"
   ]
  }
 ],
 "metadata": {
  "kernelspec": {
   "display_name": "Python 3",
   "language": "python",
   "name": "python3"
  },
  "language_info": {
   "codemirror_mode": {
    "name": "ipython",
    "version": 3
   },
   "file_extension": ".py",
   "mimetype": "text/x-python",
   "name": "python",
   "nbconvert_exporter": "python",
   "pygments_lexer": "ipython3",
   "version": "3.10.0"
  }
 },
 "nbformat": 4,
 "nbformat_minor": 2
}
